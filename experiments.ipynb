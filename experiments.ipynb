{
 "cells": [
  {
   "cell_type": "code",
   "execution_count": 33,
   "metadata": {},
   "outputs": [],
   "source": [
    "from google.cloud import translate_v3 as translate\n",
    "\n",
    "\n",
    "def create_glossary(\n",
    "    project_id: str = \"YOUR_PROJECT_ID\",\n",
    "    input_uri: str = \"YOUR_INPUT_URI\",\n",
    "    glossary_id: str = \"YOUR_GLOSSARY_ID\",\n",
    "    timeout: int = 180,\n",
    ") -> translate.Glossary:\n",
    "    \"\"\"\n",
    "    Create a equivalent term sets glossary. Glossary can be words or\n",
    "    short phrases (usually fewer than five words).\n",
    "    https://cloud.google.com/translate/docs/advanced/glossary#format-glossary\n",
    "    \"\"\"\n",
    "    client = translate.TranslationServiceClient()\n",
    "\n",
    "    # Supported language codes: https://cloud.google.com/translate/docs/languages\n",
    "    source_lang_code = \"en\"\n",
    "    target_lang_code = \"bg\"\n",
    "    location = \"us-central1\"  # The location of the glossary\n",
    "\n",
    "    name = client.glossary_path(project_id, location, glossary_id)\n",
    "    language_codes_set = translate.Glossary.LanguageCodePair()\n",
    "    language_codes_set.source_language_code = source_lang_code\n",
    "    language_codes_set.target_language_code = target_lang_code\n",
    "\n",
    "    gcs_source = translate.types.GcsSource(input_uri=input_uri)\n",
    "\n",
    "    input_config = translate.types.GlossaryInputConfig(gcs_source=gcs_source)\n",
    "\n",
    "\n",
    "    glossary = translate.types.Glossary(\n",
    "        name=name, language_pair=language_codes_set, input_config=input_config\n",
    "    )\n",
    "    # glossary = translate.types.Glossary(\n",
    "    #     name=name, language_codes_set=language_codes_set, input_config=input_config\n",
    "    # )\n",
    "\n",
    "    parent = f\"projects/{project_id}/locations/{location}\"\n",
    "    # glossary is a custom dictionary Translation API uses\n",
    "    # to translate the domain-specific terminology.\n",
    "    operation = client.create_glossary(parent=parent, glossary=glossary)\n",
    "\n",
    "    result = operation.result(timeout)\n",
    "    print(f\"Created: {result.name}\")\n",
    "    print(f\"Input Uri: {result.input_config.gcs_source.input_uri}\")\n",
    "\n",
    "    return result"
   ]
  },
  {
   "cell_type": "code",
   "execution_count": 34,
   "metadata": {},
   "outputs": [
    {
     "name": "stdout",
     "output_type": "stream",
     "text": [
      "Created: projects/695995046858/locations/us-central1/glossaries/anime-terms-glossary\n",
      "Input Uri: gs://mtl-agent/glossary.csv\n"
     ]
    },
    {
     "data": {
      "text/plain": [
       "name: \"projects/695995046858/locations/us-central1/glossaries/anime-terms-glossary\"\n",
       "language_pair {\n",
       "  source_language_code: \"en\"\n",
       "  target_language_code: \"bg\"\n",
       "}\n",
       "input_config {\n",
       "  gcs_source {\n",
       "    input_uri: \"gs://mtl-agent/glossary.csv\"\n",
       "  }\n",
       "}\n",
       "entry_count: 3\n",
       "submit_time {\n",
       "  seconds: 1689722511\n",
       "  nanos: 979498494\n",
       "}\n",
       "end_time {\n",
       "}\n",
       "display_name: \"anime-terms-glossary\""
      ]
     },
     "execution_count": 34,
     "metadata": {},
     "output_type": "execute_result"
    }
   ],
   "source": [
    "project_id = \"natural-pipe-393107\"\n",
    "create_glossary(project_id, \"gs://mtl-agent/glossary.csv\", \"anime-terms-glossary\")"
   ]
  }
 ],
 "metadata": {
  "kernelspec": {
   "display_name": "uncle-google",
   "language": "python",
   "name": "python3"
  },
  "language_info": {
   "codemirror_mode": {
    "name": "ipython",
    "version": 3
   },
   "file_extension": ".py",
   "mimetype": "text/x-python",
   "name": "python",
   "nbconvert_exporter": "python",
   "pygments_lexer": "ipython3",
   "version": "3.11.4"
  },
  "orig_nbformat": 4
 },
 "nbformat": 4,
 "nbformat_minor": 2
}
